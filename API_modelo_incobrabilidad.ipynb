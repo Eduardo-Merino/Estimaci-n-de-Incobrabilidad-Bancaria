{
 "cells": [
  {
   "cell_type": "code",
   "execution_count": 1,
   "metadata": {},
   "outputs": [],
   "source": [
    "import json\n",
    "import pickle\n",
    "from flask import  Flask, request, jsonify, render_template\n",
    "import os\n",
    "import numpy as np\n",
    "import pandas as pd\n",
    "\n",
    "from sklearn.preprocessing import StandardScaler\n",
    "from sklearn.linear_model import RidgeCV"
   ]
  },
  {
   "cell_type": "code",
   "execution_count": 2,
   "metadata": {},
   "outputs": [],
   "source": [
    "# Iniciamos nuestra API\n",
    "app = Flask('Predictor Indice de Incobrabilidad', template_folder='Plantillas')"
   ]
  },
  {
   "cell_type": "code",
   "execution_count": 3,
   "metadata": {},
   "outputs": [],
   "source": [
    "@app.route('/')\n",
    "def home():\n",
    "    return render_template('index.html')\n",
    "# Dado que en este endopint no vamos a guardar nada en el servidor, sino recibir información, usamos \n",
    "# el método GET. \n",
    "\n",
    "@app.route(\"/predict\",methods=['POST'])\n",
    "def predict():\n",
    "    \n",
    "    # Usamos request.args para tomar las query que le pasamos a la URL\n",
    "    badlar=float(request.form['badlar'])\n",
    "    tc=float(request.form['tc'])\n",
    "    ipc=float(request.form['ipc'])\n",
    "    pbi_real=float(request.form['pbi_real'])\n",
    "    pbi_nominal=float(request.form['pbi_nominal'])\n",
    "    tasa_desempleo=float(request.form['tasa_desempleo'])\n",
    "   \n",
    "    # A partir de las features recibidas, reformateamos los datos para que puedan ser ingresados al modelo.\n",
    "    \n",
    "    features_dict = {'badlar':[badlar],\n",
    "                     'tc':[tc],\n",
    "                     'ipc':[ipc],\n",
    "                     'pbi_real':[pbi_real],\n",
    "                     'pbi_nominal':[pbi_nominal],\n",
    "                     'tasa_desempleo':[tasa_desempleo],\n",
    "                     'badlar_2':[badlar**2],\n",
    "                     'tc_2':[tc**2],\n",
    "                     'ipc_2':[ipc**2],\n",
    "                     'pbi_real_2':[pbi_real**2],\n",
    "                     'pbi_nominal_2':[pbi_nominal**2],\n",
    "                     'tasa_desempleo_2':[tasa_desempleo**2]\n",
    "                   }\n",
    "    \n",
    "    features_df = pd.DataFrame(features_dict)\n",
    "    \n",
    "    print(features_df)\n",
    "    \n",
    "    # Levantamos el modelo y el escalador que ya tenemos entrenado\n",
    "    \n",
    "    with open('ridge_model.pkl', 'rb') as modelo_pkl:\n",
    "        modelo_load = pickle.load(modelo_pkl)\n",
    "        \n",
    "    with open('scaler.pkl', 'rb') as scaler_pkl:\n",
    "        scaler_load = pickle.load(scaler_pkl)\n",
    "        \n",
    "    # re-escalamos los datos con el escalador entrenado (tengan en cuenta que el escalador va a estar\n",
    "    # esperando una estructura como un DataFrame)\n",
    "    scaled_case=scaler_load.transform(features_df)\n",
    "    \n",
    "    print(\"Datos escalados: \",scaled_case)\n",
    "    \n",
    "    # realizamos la prediccion\n",
    "    prediccion=modelo_load.predict(scaled_case).round(2)\n",
    "\n",
    "\n",
    "    return render_template('index.html', prediction_text=f'La tasa de incobrabilidad estimada es {prediccion}')"
   ]
  },
  {
   "cell_type": "code",
   "execution_count": null,
   "metadata": {},
   "outputs": [
    {
     "name": "stdout",
     "output_type": "stream",
     "text": [
      " * Serving Flask app \"Predictor Indice de Incobrabilidad\" (lazy loading)\n",
      " * Environment: production\n",
      "   WARNING: This is a development server. Do not use it in a production deployment.\n",
      "   Use a production WSGI server instead.\n",
      " * Debug mode: off\n"
     ]
    },
    {
     "name": "stderr",
     "output_type": "stream",
     "text": [
      " * Running on http://0.0.0.0:5000/ (Press CTRL+C to quit)\n",
      "127.0.0.1 - - [31/Mar/2021 12:06:48] \"\u001b[37mGET / HTTP/1.1\u001b[0m\" 200 -\n",
      "127.0.0.1 - - [31/Mar/2021 12:08:09] \"\u001b[37mPOST /predict HTTP/1.1\u001b[0m\" 200 -\n"
     ]
    },
    {
     "name": "stdout",
     "output_type": "stream",
     "text": [
      "   badlar      tc     ipc   pbi_real  pbi_nominal  tasa_desempleo   badlar_2  \\\n",
      "0   36.01  126.13  559.55  691656.54  43643792.92            12.2  1296.7201   \n",
      "\n",
      "         tc_2        ipc_2    pbi_real_2  pbi_nominal_2  tasa_desempleo_2  \n",
      "0  15908.7769  313096.2025  4.783888e+11   1.904781e+15            148.84  \n",
      "Datos escalados:  [[ 1.43315019  5.43608579  5.10537723  0.47849229  4.72595607  2.11665575\n",
      "   1.21273496 10.33554386  9.54923446  0.45228374  8.98430892  2.27098498]]\n"
     ]
    }
   ],
   "source": [
    "# ejecutar esta celda antes de entrar en la dirección): http://localhost:5000/\n",
    "app.run(host='0.0.0.0')"
   ]
  }
 ],
 "metadata": {
  "kernelspec": {
   "display_name": "Python 3",
   "language": "python",
   "name": "python3"
  },
  "language_info": {
   "codemirror_mode": {
    "name": "ipython",
    "version": 3
   },
   "file_extension": ".py",
   "mimetype": "text/x-python",
   "name": "python",
   "nbconvert_exporter": "python",
   "pygments_lexer": "ipython3",
   "version": "3.7.9"
  }
 },
 "nbformat": 4,
 "nbformat_minor": 4
}
